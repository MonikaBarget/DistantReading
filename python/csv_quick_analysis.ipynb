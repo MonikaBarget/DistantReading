{
 "cells": [
  {
   "cell_type": "markdown",
   "id": "21372dd3-d689-42ab-a9c2-63568575d3a1",
   "metadata": {},
   "source": [
    "## Quick analysis of podcast reviews\n",
    "\n",
    "This code permits you to load podcast reviews from a CSV file and perform a quick analysis. You will see a preview of the data in table format and a chart that shows the median number of reviews per month."
   ]
  },
  {
   "cell_type": "markdown",
   "id": "e896e075-9cdd-43ce-a18b-a36ef4c952ca",
   "metadata": {},
   "source": [
    "## Read data from file for preview table"
   ]
  },
  {
   "cell_type": "code",
   "execution_count": null,
   "id": "7068cb77-4ce0-4691-9660-039acb6c175b",
   "metadata": {
    "tags": []
   },
   "outputs": [],
   "source": [
    "import pandas as pd"
   ]
  },
  {
   "cell_type": "code",
   "execution_count": null,
   "id": "ff62e96b-7124-4827-ab2d-06b94bca1129",
   "metadata": {},
   "outputs": [],
   "source": [
    "# Select one dataset for preview\n",
    "file_csv = \"your-file.csv\"\n",
    "df = pd.read_csv(file_csv, sep='\\t')"
   ]
  },
  {
   "cell_type": "code",
   "execution_count": null,
   "id": "bfe8c685-2a78-49f2-b4d1-e27d05e8dfbe",
   "metadata": {},
   "outputs": [],
   "source": [
    "display(df)"
   ]
  },
  {
   "cell_type": "markdown",
   "id": "cf3694d3-f36c-421d-a86f-8717965bf0b2",
   "metadata": {},
   "source": [
    "## Read data from file for preview table"
   ]
  },
  {
   "cell_type": "code",
   "execution_count": null,
   "id": "b5ff15c6-a65c-4d67-bbcd-71ae9426ab06",
   "metadata": {},
   "outputs": [],
   "source": [
    "df['date'] =  pd.to_datetime(df['date'], format='%Y-%m-%d %H:%M:%S')\n",
    "df['month'] = df['date'].dt.month\n",
    "df['year'] = df['date'].dt.year\n",
    "\n",
    "dfmonthly = df.groupby([\"year\", \"month\"]).median()"
   ]
  },
  {
   "cell_type": "code",
   "execution_count": null,
   "id": "01f3b473-1da3-4006-acff-dbc088d7edc1",
   "metadata": {},
   "outputs": [],
   "source": [
    "dfmonthly['rating'].plot();"
   ]
  }
 ],
 "metadata": {
  "kernelspec": {
   "display_name": "Python 3 (ipykernel)",
   "language": "python",
   "name": "python3"
  },
  "language_info": {
   "codemirror_mode": {
    "name": "ipython",
    "version": 3
   },
   "file_extension": ".py",
   "mimetype": "text/x-python",
   "name": "python",
   "nbconvert_exporter": "python",
   "pygments_lexer": "ipython3",
   "version": "3.8.13"
  }
 },
 "nbformat": 4,
 "nbformat_minor": 5
}
